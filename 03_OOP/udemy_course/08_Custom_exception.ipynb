{
 "cells": [
  {
   "cell_type": "markdown",
   "metadata": {},
   "source": [
    "# Custom exception (raise and throw an exception)"
   ]
  },
  {
   "cell_type": "code",
   "execution_count": 1,
   "metadata": {},
   "outputs": [],
   "source": [
    "class Error(Exception):\n",
    "    pass\n",
    "\n",
    "class BirthdayException(Error):\n",
    "    pass"
   ]
  },
  {
   "cell_type": "code",
   "execution_count": 3,
   "metadata": {},
   "outputs": [
    {
     "name": "stdout",
     "output_type": "stream",
     "text": [
      "Sorry, your age should be greater tah 20 or less than 30\n"
     ]
    }
   ],
   "source": [
    "year = int(input(\"Enter your year of birth: \"))\n",
    "age = 2025-year\n",
    "\n",
    "try:\n",
    "    if age <= 30 & age > 20:\n",
    "        print(\"The age is valid. You can apply for the exam\")\n",
    "    else:\n",
    "        raise BirthdayException\n",
    "except BirthdayException:\n",
    "    print(\"Sorry, your age should be greater tah 20 or less than 30\")"
   ]
  }
 ],
 "metadata": {
  "kernelspec": {
   "display_name": "general_env",
   "language": "python",
   "name": "python3"
  },
  "language_info": {
   "codemirror_mode": {
    "name": "ipython",
    "version": 3
   },
   "file_extension": ".py",
   "mimetype": "text/x-python",
   "name": "python",
   "nbconvert_exporter": "python",
   "pygments_lexer": "ipython3",
   "version": "3.12.7"
  }
 },
 "nbformat": 4,
 "nbformat_minor": 2
}
