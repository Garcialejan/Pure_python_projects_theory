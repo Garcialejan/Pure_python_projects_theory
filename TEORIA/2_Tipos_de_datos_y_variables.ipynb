{
  "cells": [
    {
      "cell_type": "markdown",
      "metadata": {
        "id": "dzNng6vCL9eP"
      },
      "source": [
        "\n",
        "# **Fundamentos de Python - Tipos de datos y variables**"
      ]
    },
    {
      "cell_type": "markdown",
      "metadata": {
        "id": "vkxaYfjeEB8H"
      },
      "source": [
        "## Tipos de datos"
      ]
    },
    {
      "cell_type": "markdown",
      "metadata": {
        "id": "OiYOSXuiEFMA"
      },
      "source": [
        "### Numéricos"
      ]
    },
    {
      "cell_type": "markdown",
      "metadata": {
        "id": "dkMJmviEN2G4"
      },
      "source": [
        "Python distingue entre números enteros y decimales.\n",
        "Para ello, usaremos el delimitador \".\" cuando queramos referirnos a un número decimal (sistema americano)."
      ]
    },
    {
      "cell_type": "code",
      "execution_count": null,
      "metadata": {
        "id": "64dOedkrNlBf",
        "outputId": "e397d3c6-aad0-401b-93a8-4f12a38b0728",
        "colab": {
          "base_uri": "https://localhost:8080/"
        }
      },
      "outputs": [
        {
          "output_type": "execute_result",
          "data": {
            "text/plain": [
              "100000.000001"
            ]
          },
          "metadata": {},
          "execution_count": 1
        }
      ],
      "source": [
        "3     # Número entero\n",
        "4.5   # Número decimal\n",
        "5,6   # En este caso, Python interpretará que estamos creando una tupla con dos elementos\n",
        "3.0   # En este caso, Python interpretará este valor como número decimal (aunque la parte decimal sea cero)\n",
        ".4    # Se puede escribir un número decimal sin la parte entera, aunque lo habitual sea poner primero la parte entera\n",
        "\n",
        "100_000         # Si queremos delimitar los miles/millones en una cifra, Python permite utilizar el guión bajo para ello (aunque se puede utilizar en cualquier posición)\n",
        "100_000.000_001 # El delimitador también lo podremos utilizar en valores decimales\n"
      ]
    },
    {
      "cell_type": "code",
      "execution_count": null,
      "metadata": {
        "id": "X0YJrrNlkoAn",
        "outputId": "db7cb02b-b284-493f-906c-d036802f7bce",
        "colab": {
          "base_uri": "https://localhost:8080/"
        }
      },
      "outputs": [
        {
          "output_type": "execute_result",
          "data": {
            "text/plain": [
              "1000000"
            ]
          },
          "metadata": {},
          "execution_count": 2
        }
      ],
      "source": [
        "1_000_000"
      ]
    },
    {
      "cell_type": "markdown",
      "metadata": {
        "id": "n7BydcbDPkX0"
      },
      "source": [
        "####Operaciones básicas"
      ]
    },
    {
      "cell_type": "markdown",
      "metadata": {
        "id": "LwTlbtZKPrJ3"
      },
      "source": [
        "Las cuatro operaciones básicas son la suma, la resta, la multiplicación y la división.\n",
        "\n",
        "Para cualquiera de estas operaciones, siempre que intervenga algún número decimal, el resultado será un número decimal. En el caso de que el resultado sea un número exacto, se escribirá \"0\" en la parte decimal.\n",
        "\n",
        "\n",
        "\n"
      ]
    },
    {
      "cell_type": "code",
      "execution_count": null,
      "metadata": {
        "id": "Cn4Olu5nQD3F",
        "outputId": "0f0052c4-53f2-41ce-92c0-f453b7679608",
        "colab": {
          "base_uri": "https://localhost:8080/"
        }
      },
      "outputs": [
        {
          "output_type": "execute_result",
          "data": {
            "text/plain": [
              "7.5"
            ]
          },
          "metadata": {},
          "execution_count": 3
        }
      ],
      "source": [
        "2.5*3"
      ]
    },
    {
      "cell_type": "code",
      "execution_count": null,
      "metadata": {
        "id": "x5iXSDEpQpyf",
        "outputId": "62791e2a-12fa-44e2-a4a9-b7b4e97e99ef",
        "colab": {
          "base_uri": "https://localhost:8080/"
        }
      },
      "outputs": [
        {
          "output_type": "execute_result",
          "data": {
            "text/plain": [
              "10.0"
            ]
          },
          "metadata": {},
          "execution_count": 4
        }
      ],
      "source": [
        "2.5*4"
      ]
    },
    {
      "cell_type": "markdown",
      "metadata": {
        "id": "CfzedN0bQuC2"
      },
      "source": [
        "Al sumar, restar o multiplicar números enteros, el resultado es entero"
      ]
    },
    {
      "cell_type": "code",
      "execution_count": null,
      "metadata": {
        "id": "vz5q4PsmQ0dw",
        "outputId": "2f7b71de-33a2-4de8-dd52-2755b94271ca",
        "colab": {
          "base_uri": "https://localhost:8080/"
        }
      },
      "outputs": [
        {
          "output_type": "execute_result",
          "data": {
            "text/plain": [
              "14"
            ]
          },
          "metadata": {},
          "execution_count": 5
        }
      ],
      "source": [
        "10+4"
      ]
    },
    {
      "cell_type": "code",
      "execution_count": null,
      "metadata": {
        "id": "IM4rjis8Q3Bo",
        "outputId": "0395e692-9b47-448b-f52d-8b8a2a674364",
        "colab": {
          "base_uri": "https://localhost:8080/"
        }
      },
      "outputs": [
        {
          "output_type": "execute_result",
          "data": {
            "text/plain": [
              "int"
            ]
          },
          "metadata": {},
          "execution_count": 7
        }
      ],
      "source": [
        "type(3-30)"
      ]
    },
    {
      "cell_type": "code",
      "execution_count": null,
      "metadata": {
        "id": "k5V2eFzEQ5VB",
        "outputId": "42e77657-b370-4747-9d23-60d34c1efca8",
        "colab": {
          "base_uri": "https://localhost:8080/"
        }
      },
      "outputs": [
        {
          "output_type": "execute_result",
          "data": {
            "text/plain": [
              "33"
            ]
          },
          "metadata": {},
          "execution_count": 8
        }
      ],
      "source": [
        "11*3"
      ]
    },
    {
      "cell_type": "markdown",
      "metadata": {
        "id": "MHqtUf8JRApA"
      },
      "source": [
        "En cambio, si dividimos números enteros, el resultado siempre será decimal aunque la parte decimal sea cero."
      ]
    },
    {
      "cell_type": "code",
      "execution_count": null,
      "metadata": {
        "id": "ljE5aNjFRFtN",
        "outputId": "747a013f-7236-45fe-f63b-f9c200bd6d2b",
        "colab": {
          "base_uri": "https://localhost:8080/"
        }
      },
      "outputs": [
        {
          "output_type": "execute_result",
          "data": {
            "text/plain": [
              "5.0"
            ]
          },
          "metadata": {},
          "execution_count": 9
        }
      ],
      "source": [
        "10/2"
      ]
    },
    {
      "cell_type": "code",
      "execution_count": null,
      "metadata": {
        "id": "P4BPh2lMRHzP",
        "outputId": "4e8cc578-9522-4d01-a9cd-0698039b4b71",
        "colab": {
          "base_uri": "https://localhost:8080/"
        }
      },
      "outputs": [
        {
          "output_type": "execute_result",
          "data": {
            "text/plain": [
              "2.5"
            ]
          },
          "metadata": {},
          "execution_count": 10
        }
      ],
      "source": [
        "10/4"
      ]
    },
    {
      "cell_type": "markdown",
      "metadata": {
        "id": "C5nCFNWvR5ew"
      },
      "source": [
        "Si realizamos una división entre 0, Python nos devuelve un error."
      ]
    },
    {
      "cell_type": "code",
      "execution_count": null,
      "metadata": {
        "id": "CVN3rjUCSJ4m",
        "outputId": "b0341724-15ad-4067-a537-28208077a311",
        "colab": {
          "base_uri": "https://localhost:8080/",
          "height": 141
        }
      },
      "outputs": [
        {
          "output_type": "error",
          "ename": "ZeroDivisionError",
          "evalue": "division by zero",
          "traceback": [
            "\u001b[0;31m---------------------------------------------------------------------------\u001b[0m",
            "\u001b[0;31mZeroDivisionError\u001b[0m                         Traceback (most recent call last)",
            "\u001b[0;32m<ipython-input-11-9e1622b385b6>\u001b[0m in \u001b[0;36m<cell line: 1>\u001b[0;34m()\u001b[0m\n\u001b[0;32m----> 1\u001b[0;31m \u001b[0;36m1\u001b[0m\u001b[0;34m/\u001b[0m\u001b[0;36m0\u001b[0m\u001b[0;34m\u001b[0m\u001b[0;34m\u001b[0m\u001b[0m\n\u001b[0m",
            "\u001b[0;31mZeroDivisionError\u001b[0m: division by zero"
          ]
        }
      ],
      "source": [
        "1/0"
      ]
    },
    {
      "cell_type": "markdown",
      "metadata": {
        "id": "twBaHlLqSD5O"
      },
      "source": [
        "En el caso de que queramos realizar varias operaciones de manera consecutiva, Python utiliza las reglas típicas de prioridad (primero multiplicaciones y divisiones, y después sumar y restas).\n",
        "En el caso de que nos interese que las operaciones se realicen en otro orden, debemos utilizar paréntesis para encapsular las operaciones."
      ]
    },
    {
      "cell_type": "code",
      "execution_count": null,
      "metadata": {
        "id": "nYklpLHSSeP_",
        "outputId": "94587cb6-6af6-43e1-db39-b94eb0492bde",
        "colab": {
          "base_uri": "https://localhost:8080/"
        }
      },
      "outputs": [
        {
          "output_type": "execute_result",
          "data": {
            "text/plain": [
              "19"
            ]
          },
          "metadata": {},
          "execution_count": 12
        }
      ],
      "source": [
        "9+5*2"
      ]
    },
    {
      "cell_type": "code",
      "execution_count": null,
      "metadata": {
        "id": "Utu4OUrBSlAZ",
        "outputId": "035cdf3d-330c-4a29-adb4-51516ea2538e",
        "colab": {
          "base_uri": "https://localhost:8080/"
        }
      },
      "outputs": [
        {
          "output_type": "execute_result",
          "data": {
            "text/plain": [
              "28"
            ]
          },
          "metadata": {},
          "execution_count": 13
        }
      ],
      "source": [
        "(9+5)*2"
      ]
    },
    {
      "cell_type": "markdown",
      "metadata": {
        "id": "cYDstL10Sw0P"
      },
      "source": [
        "Una peculiaridad de Python es que podemos escribir sumas y restas seguidas (sin literales), pero no es lo adecuado, ya que no representa una notación habitual.\n",
        "Esta peculiaridad no se aplica para las multiplicaciones y divisiones."
      ]
    },
    {
      "cell_type": "code",
      "execution_count": null,
      "metadata": {
        "id": "YNYjKrxTTCLd",
        "outputId": "c4b87628-afbb-4736-b3ae-5d85ed2e82e1",
        "colab": {
          "base_uri": "https://localhost:8080/"
        }
      },
      "outputs": [
        {
          "output_type": "execute_result",
          "data": {
            "text/plain": [
              "6"
            ]
          },
          "metadata": {},
          "execution_count": 14
        }
      ],
      "source": [
        "10++-+4\n",
        "#10+(1*1*(-1))"
      ]
    },
    {
      "cell_type": "code",
      "execution_count": null,
      "metadata": {
        "id": "KNubn53ATUIA",
        "outputId": "16957a32-4038-4b82-f4fa-8a6ad5919424",
        "colab": {
          "base_uri": "https://localhost:8080/",
          "height": 106
        }
      },
      "outputs": [
        {
          "output_type": "error",
          "ename": "SyntaxError",
          "evalue": "invalid syntax (<ipython-input-16-4eea4809448c>, line 1)",
          "traceback": [
            "\u001b[0;36m  File \u001b[0;32m\"<ipython-input-16-4eea4809448c>\"\u001b[0;36m, line \u001b[0;32m1\u001b[0m\n\u001b[0;31m    10**/*4\u001b[0m\n\u001b[0m        ^\u001b[0m\n\u001b[0;31mSyntaxError\u001b[0m\u001b[0;31m:\u001b[0m invalid syntax\n"
          ]
        }
      ],
      "source": [
        "10**/*4"
      ]
    },
    {
      "cell_type": "markdown",
      "metadata": {
        "id": "N175TkO7TtBb"
      },
      "source": [
        "#### Cociente y resto de una división"
      ]
    },
    {
      "cell_type": "markdown",
      "metadata": {
        "id": "xPwyO0xMT2gx"
      },
      "source": [
        "Una división está compuesta por el dividendo, divisor, cociente y resto, de manera que:\n",
        "\n",
        " **dividendo = divisor*cociente + resto.**\n",
        "\n",
        "Python nos permite calcular tanto el cociente como el resto de una división de manera sencilla."
      ]
    },
    {
      "cell_type": "markdown",
      "metadata": {
        "id": "sjlCSUp7UUb1"
      },
      "source": [
        "**Cociente**\n",
        "\n",
        "Si queremos obtener el cociente (parte entera) de una división, debemos realizar la división con el operador **\"//\"**.\n",
        "\n",
        "El resultado de esta operación será siempre un número entero, aunque Python nos lo devolverá de tipo entero o decimal según sean el tipo del dividendo y el divisor."
      ]
    },
    {
      "cell_type": "code",
      "execution_count": null,
      "metadata": {
        "id": "33TzfC0PUTO5"
      },
      "outputs": [],
      "source": [
        "20//6"
      ]
    },
    {
      "cell_type": "code",
      "execution_count": null,
      "metadata": {
        "id": "7jVgUyOxU7La"
      },
      "outputs": [],
      "source": [
        "20.0//6"
      ]
    },
    {
      "cell_type": "code",
      "execution_count": null,
      "metadata": {
        "id": "aDWT8Y6DU7-x"
      },
      "outputs": [],
      "source": [
        "20//6.0"
      ]
    },
    {
      "cell_type": "markdown",
      "metadata": {
        "id": "sa69DCZ-VMOG"
      },
      "source": [
        "**Resto**\n",
        "\n",
        "Si, por otra parte, queremos obtener el resto de una división, debemos realizar la división con el operador **\"%\"**.\n",
        "Al igual que con el cociente, el tipo del valor obtenido dependerá del tipo de dato que sean el dividendo y el divisor."
      ]
    },
    {
      "cell_type": "code",
      "execution_count": null,
      "metadata": {
        "id": "UnoztC9iVgKz"
      },
      "outputs": [],
      "source": [
        "20%6"
      ]
    },
    {
      "cell_type": "code",
      "execution_count": null,
      "metadata": {
        "id": "69wSmu3QViYM"
      },
      "outputs": [],
      "source": [
        "20.0%6"
      ]
    },
    {
      "cell_type": "code",
      "execution_count": null,
      "metadata": {
        "id": "vp3F76xLVi7p"
      },
      "outputs": [],
      "source": [
        "20%6.0"
      ]
    },
    {
      "cell_type": "markdown",
      "metadata": {
        "id": "N2r_L5LMVqet"
      },
      "source": [
        "**divmod()**\n",
        "\n",
        "Por último, existe la manera de obtener de una única operación, tanto el cociente como el resto.\n",
        "Esto es posible gracias a la función integrada divmod(x,y), sobre la cual pasaremos como parámetro el dividendo (x) y el divisor (y), y Python nos devolverá una tupla con el cociente y el resto de la división."
      ]
    },
    {
      "cell_type": "code",
      "execution_count": null,
      "metadata": {
        "id": "DE8rYl00V4hv"
      },
      "outputs": [],
      "source": [
        "divmod(20,6)"
      ]
    },
    {
      "cell_type": "markdown",
      "metadata": {
        "id": "2oIvyqlGWXrk"
      },
      "source": [
        "#### Potencias y raíces"
      ]
    },
    {
      "cell_type": "markdown",
      "metadata": {
        "id": "LhLvdZjWWk02"
      },
      "source": [
        "Las potencias se calculan con el operador \"**\". En esta ocasión, las potencias tienen prioridad sobre las multiplicaciones y divisiones (y por tanto, sobre las sumas y restas).\n",
        "\n",
        "![potencias inversas y raices.PNG](data:image/png;base64,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)\n",
        "\n"
      ]
    },
    {
      "cell_type": "code",
      "execution_count": null,
      "metadata": {
        "id": "IXRTNIntO7Nc"
      },
      "outputs": [],
      "source": [
        "5**2"
      ]
    },
    {
      "cell_type": "code",
      "execution_count": null,
      "metadata": {
        "id": "q0mKB1ufO9rM"
      },
      "outputs": [],
      "source": [
        "2**-2"
      ]
    },
    {
      "cell_type": "code",
      "execution_count": null,
      "metadata": {
        "id": "wKe7U-eQPLNg"
      },
      "outputs": [],
      "source": [
        "4**0.5"
      ]
    },
    {
      "cell_type": "code",
      "execution_count": null,
      "metadata": {
        "id": "2-_yLYg4PTLp"
      },
      "outputs": [],
      "source": [
        "-9**0.5"
      ]
    },
    {
      "cell_type": "code",
      "execution_count": null,
      "metadata": {
        "id": "dJ4yslEnPWdL"
      },
      "outputs": [],
      "source": [
        "(-9)**0.5"
      ]
    },
    {
      "cell_type": "markdown",
      "metadata": {
        "id": "EoBjJpE1PseC"
      },
      "source": [
        "Adicionalmente, podemos utilizar la función integrada pow() para realizar el cálculo."
      ]
    },
    {
      "cell_type": "code",
      "execution_count": null,
      "metadata": {
        "id": "Y8HXMxjMTyJg"
      },
      "outputs": [],
      "source": [
        "pow(5,2)"
      ]
    },
    {
      "cell_type": "code",
      "execution_count": null,
      "metadata": {
        "id": "OJVoBVxeT0pD"
      },
      "outputs": [],
      "source": [
        "pow(2, -2)"
      ]
    },
    {
      "cell_type": "code",
      "execution_count": null,
      "metadata": {
        "id": "RrOFua5xT1Dy"
      },
      "outputs": [],
      "source": [
        "pow(4, 0.5)"
      ]
    },
    {
      "cell_type": "markdown",
      "metadata": {
        "id": "S0gBRgkZWfJV"
      },
      "source": [
        "####Funciones integradas y librerías"
      ]
    },
    {
      "cell_type": "markdown",
      "metadata": {
        "id": "3nmYnuaCWloM"
      },
      "source": [
        "Finalmente, tenemos ciertas funciones integradas y librerías que nos ayudan con los cálculos matemáticos."
      ]
    },
    {
      "cell_type": "code",
      "execution_count": null,
      "metadata": {
        "id": "JYZr-X5LUyQQ"
      },
      "outputs": [],
      "source": [
        "round(4.35)   # 4\n",
        "round(4.63)   # 5\n",
        "round(-4.35)   # -4\n",
        "round(-4.63)   # -5\n",
        "\n",
        "round(2.3456, 2)  # 2.35\n",
        "round(2.3456, 0)  # 2.0 --> Float\n",
        "\n",
        "round(12345, -1)  # 12340\n",
        "round(12345, -2)  # 12300"
      ]
    },
    {
      "cell_type": "markdown",
      "metadata": {
        "id": "lBAifKBfVvSt"
      },
      "source": [
        "En el caso de querer redondear voluntariamente al valor anterior o posterior, debemos importar la liberia **math** y realizar la operación llamando a la librería correspondiente."
      ]
    },
    {
      "cell_type": "code",
      "execution_count": null,
      "metadata": {
        "id": "I7o8hoAKVucn"
      },
      "outputs": [],
      "source": [
        "import math\n",
        "\n",
        "print(9/5)\n",
        "print(math.floor(9/5))\n",
        "print(math.ceil(9/5))"
      ]
    },
    {
      "cell_type": "markdown",
      "metadata": {
        "id": "EzXUfkRnW_a1"
      },
      "source": [
        "Por último, algunas de las funciones integradas más útiles para poder trabajar y operar con datos son:\n",
        "\n",
        "\n",
        "*   abs() : Nos devuelve el valor absoluto de un número.\n",
        "*   max() : calcula el valor máximo de un conjunto  de valores.\n",
        "*   min() : calcula el valor mínimo de un conjunto de valores.\n",
        "*   sorted(): ordena de manera ascendente (por defecto) un conjunto de valores. El conjunto de valores ha de ser un tipo de datos iterable (tupla, rango, lista, conjunto, diccionario)\n",
        "*   sum(): calcula la suma de un conjunto de valores. El conjunto de valores ha de ser un tipo de datos iterable (tupla, rango, lista, conjunto, diccionario)\n",
        "\n"
      ]
    },
    {
      "cell_type": "code",
      "execution_count": null,
      "metadata": {
        "id": "5YOwLy5mXIAd"
      },
      "outputs": [],
      "source": [
        "abs(-4)"
      ]
    },
    {
      "cell_type": "code",
      "execution_count": null,
      "metadata": {
        "id": "G-6djIKeX0kQ"
      },
      "outputs": [],
      "source": [
        "max(1,2,3,4,5)"
      ]
    },
    {
      "cell_type": "code",
      "execution_count": null,
      "metadata": {
        "id": "vUlIHyvOX5p9"
      },
      "outputs": [],
      "source": [
        "min(1,-2,3,4,5)"
      ]
    },
    {
      "cell_type": "code",
      "execution_count": null,
      "metadata": {
        "id": "-ZauAiU3YDBV"
      },
      "outputs": [],
      "source": [
        "sorted((10, 3, 5, -1, 14, -11))"
      ]
    },
    {
      "cell_type": "code",
      "execution_count": null,
      "metadata": {
        "id": "R_lRVMk2YMs_"
      },
      "outputs": [],
      "source": [
        "sum((2, 4, 5, 10))"
      ]
    },
    {
      "cell_type": "markdown",
      "metadata": {
        "id": "HnTk00iGEK1o"
      },
      "source": [
        "### Cadenas de texto"
      ]
    },
    {
      "cell_type": "markdown",
      "metadata": {
        "id": "fLnpmT-RWmKF"
      },
      "source": [
        "Una cadena de texto es una secuencia de caracteres.\n",
        "Para delimitar una cadena de caracteres, utilizaremos las comillas simple (') o comillas dobles (\")."
      ]
    },
    {
      "cell_type": "code",
      "execution_count": null,
      "metadata": {
        "id": "K0mCQzwGB6zq",
        "outputId": "e4d67def-cf09-40ce-fa94-d0aa9612232f",
        "colab": {
          "base_uri": "https://localhost:8080/"
        }
      },
      "outputs": [
        {
          "output_type": "stream",
          "name": "stdout",
          "text": [
            "Esto es una cadena\n"
          ]
        }
      ],
      "source": [
        "print(\"Esto es una cadena\")"
      ]
    },
    {
      "cell_type": "code",
      "execution_count": null,
      "metadata": {
        "id": "v1c269-PCAO2",
        "outputId": "ecbfeccd-fb6e-4f3e-c10f-93282bcfe5ea",
        "colab": {
          "base_uri": "https://localhost:8080/"
        }
      },
      "outputs": [
        {
          "output_type": "stream",
          "name": "stdout",
          "text": [
            "Esto es una cadena\n"
          ]
        }
      ],
      "source": [
        "print('Esto es una cadena')"
      ]
    },
    {
      "cell_type": "code",
      "execution_count": null,
      "metadata": {
        "id": "0rLRU2juCEDd",
        "outputId": "bebce452-f7c2-414d-92d0-267f1f8c5fdf",
        "colab": {
          "base_uri": "https://localhost:8080/",
          "height": 106
        }
      },
      "outputs": [
        {
          "output_type": "error",
          "ename": "SyntaxError",
          "evalue": "unterminated string literal (detected at line 1) (<ipython-input-19-b2f71e092370>, line 1)",
          "traceback": [
            "\u001b[0;36m  File \u001b[0;32m\"<ipython-input-19-b2f71e092370>\"\u001b[0;36m, line \u001b[0;32m1\u001b[0m\n\u001b[0;31m    print(\"Esto es una cadena')\u001b[0m\n\u001b[0m          ^\u001b[0m\n\u001b[0;31mSyntaxError\u001b[0m\u001b[0;31m:\u001b[0m unterminated string literal (detected at line 1)\n"
          ]
        }
      ],
      "source": [
        "print(\"Esto es una cadena')"
      ]
    },
    {
      "cell_type": "markdown",
      "metadata": {
        "id": "5giNuJyuCXAq"
      },
      "source": [
        "#### Secuencias"
      ]
    },
    {
      "cell_type": "markdown",
      "metadata": {
        "id": "V2eN8xoBCiFa"
      },
      "source": [
        "Las cadenas de texto pueden manipularse de manera sencilla con ciertas funcionalidades básicas:\n",
        "\n",
        "**Slicing**\n",
        "\n",
        "![image.png](data:image/png;base64,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)"
      ]
    },
    {
      "cell_type": "code",
      "execution_count": null,
      "metadata": {
        "id": "EC5HcbycCye2",
        "outputId": "7e5ef030-b45f-403e-c1a2-56d72ce0e14d",
        "colab": {
          "base_uri": "https://localhost:8080/",
          "height": 36
        }
      },
      "outputs": [
        {
          "output_type": "execute_result",
          "data": {
            "text/plain": [
              "'P'"
            ],
            "application/vnd.google.colaboratory.intrinsic+json": {
              "type": "string"
            }
          },
          "metadata": {},
          "execution_count": 20
        }
      ],
      "source": [
        "\"Python\"[0]"
      ]
    },
    {
      "cell_type": "code",
      "execution_count": null,
      "metadata": {
        "id": "czbtiuuEDfYC",
        "outputId": "430db1c5-b36b-4dd2-ad7b-f4f0dae634fb",
        "colab": {
          "base_uri": "https://localhost:8080/",
          "height": 36
        }
      },
      "outputs": [
        {
          "output_type": "execute_result",
          "data": {
            "text/plain": [
              "'n'"
            ],
            "application/vnd.google.colaboratory.intrinsic+json": {
              "type": "string"
            }
          },
          "metadata": {},
          "execution_count": 21
        }
      ],
      "source": [
        "\"Python\"[-1]"
      ]
    },
    {
      "cell_type": "code",
      "execution_count": null,
      "metadata": {
        "id": "oDdQsvV2DjnD",
        "outputId": "f2309924-4ada-40eb-9650-3ea5b93a73c3",
        "colab": {
          "base_uri": "https://localhost:8080/",
          "height": 36
        }
      },
      "outputs": [
        {
          "output_type": "execute_result",
          "data": {
            "text/plain": [
              "'Pyt'"
            ],
            "application/vnd.google.colaboratory.intrinsic+json": {
              "type": "string"
            }
          },
          "metadata": {},
          "execution_count": 22
        }
      ],
      "source": [
        "\"Python\"[0:3]"
      ]
    },
    {
      "cell_type": "code",
      "execution_count": null,
      "metadata": {
        "id": "4mOS772-Dv8l",
        "outputId": "14e73659-9dc2-42f8-afc8-648f843db689",
        "colab": {
          "base_uri": "https://localhost:8080/",
          "height": 36
        }
      },
      "outputs": [
        {
          "output_type": "execute_result",
          "data": {
            "text/plain": [
              "'h'"
            ],
            "application/vnd.google.colaboratory.intrinsic+json": {
              "type": "string"
            }
          },
          "metadata": {},
          "execution_count": 23
        }
      ],
      "source": [
        "\"Python\"[-3:-2]"
      ]
    },
    {
      "cell_type": "code",
      "execution_count": null,
      "metadata": {
        "id": "ieoXetUfD49y",
        "outputId": "eb3ac0ab-c8df-44ac-bea8-1aead823c515",
        "colab": {
          "base_uri": "https://localhost:8080/",
          "height": 36
        }
      },
      "outputs": [
        {
          "output_type": "execute_result",
          "data": {
            "text/plain": [
              "'Pt'"
            ],
            "application/vnd.google.colaboratory.intrinsic+json": {
              "type": "string"
            }
          },
          "metadata": {},
          "execution_count": 24
        }
      ],
      "source": [
        "\"Python\"[0:4:2]"
      ]
    },
    {
      "cell_type": "markdown",
      "metadata": {
        "id": "PKaCTwywEZiN"
      },
      "source": [
        "**Concatenación y multiplicación**"
      ]
    },
    {
      "cell_type": "code",
      "execution_count": null,
      "metadata": {
        "id": "0-bLtpQ5ETiC"
      },
      "outputs": [],
      "source": [
        "\"Python\" + \" y Java\""
      ]
    },
    {
      "cell_type": "code",
      "execution_count": null,
      "metadata": {
        "id": "-ksq5BH0ElAe"
      },
      "outputs": [],
      "source": [
        "\"Python\"*2"
      ]
    },
    {
      "cell_type": "markdown",
      "metadata": {
        "id": "sASO5aY3Eq-M"
      },
      "source": [
        "**Membresía**"
      ]
    },
    {
      "cell_type": "code",
      "execution_count": null,
      "metadata": {
        "id": "KESOxXnaEtmP"
      },
      "outputs": [],
      "source": [
        "\"yth\" in \"Python\""
      ]
    },
    {
      "cell_type": "code",
      "execution_count": null,
      "metadata": {
        "id": "Fxwn0zVxExkF"
      },
      "outputs": [],
      "source": [
        "\"pyt\" in \"Python\""
      ]
    },
    {
      "cell_type": "markdown",
      "metadata": {
        "id": "U1UJBXe1E5Gc"
      },
      "source": [
        "#### Funciones integradas"
      ]
    },
    {
      "cell_type": "markdown",
      "metadata": {
        "id": "jomY26f6FDTE"
      },
      "source": [
        "Existen ciertas funciones integradas que nos van a permitir operar y modificar las cadenas de texto de manera sencilla."
      ]
    },
    {
      "cell_type": "code",
      "execution_count": null,
      "metadata": {
        "id": "jrcmn0WWFASV"
      },
      "outputs": [],
      "source": [
        "len(\"Python\") #Nos devuelve número de caracteres de la cadena"
      ]
    },
    {
      "cell_type": "code",
      "execution_count": null,
      "metadata": {
        "id": "_NHC1yw6FXjl"
      },
      "outputs": [],
      "source": [
        "\"Python\".lower() #Convierte todos los caracteres en minúsculas"
      ]
    },
    {
      "cell_type": "code",
      "execution_count": null,
      "metadata": {
        "id": "ZSManTFoFcXE"
      },
      "outputs": [],
      "source": [
        "\"Python\".upper() # Convierte toda la cadena a mayúsculas"
      ]
    },
    {
      "cell_type": "code",
      "execution_count": null,
      "metadata": {
        "id": "g45posOGFiIW"
      },
      "outputs": [],
      "source": [
        "\"Python está guay\".title() # Convierte el primer caracter de cada palabra a mayúscula"
      ]
    },
    {
      "cell_type": "code",
      "execution_count": null,
      "metadata": {
        "id": "7XrQUDXmFs1Q"
      },
      "outputs": [],
      "source": [
        "\"Python está guay\".replace(\"Python\", \"Beber cerveza\") # Reemplaza los caracteres que queramos por otros"
      ]
    },
    {
      "cell_type": "code",
      "execution_count": null,
      "metadata": {
        "id": "4KHhiLiSF2mu"
      },
      "outputs": [],
      "source": [
        "\"Python está guay\".find(\"t\") # Nos devuelve el índice de la primera aparición de ese caracter"
      ]
    },
    {
      "cell_type": "code",
      "execution_count": null,
      "metadata": {
        "id": "O4LPDmeJGBRs"
      },
      "outputs": [],
      "source": [
        "\"Python está guay\".count(\"y\") # Nos devuelve el número de apariciones del caracter o cadena que queramos"
      ]
    },
    {
      "cell_type": "code",
      "execution_count": null,
      "metadata": {
        "id": "UATb3dALGKv_"
      },
      "outputs": [],
      "source": [
        "\" Python está guay \".strip() # Elimina el caracter especificado al principio y al final de la cadena (por defecto espacios)"
      ]
    },
    {
      "cell_type": "code",
      "execution_count": null,
      "metadata": {
        "id": "bRljqopaGTlU"
      },
      "outputs": [],
      "source": [
        "\"Python está guay\".strip(\"y\")"
      ]
    },
    {
      "cell_type": "code",
      "execution_count": null,
      "metadata": {
        "id": "eEtSrHTAGgW5"
      },
      "outputs": [],
      "source": [
        "\"Hey! Python mola\".strip(\"Hey! \").replace(\"Python\", \"Beber cerveza\").replace(\" mola\", \" mola más aún\") # Podemos concatenar tantas operaciones como queramos. Se ejecutan en orden de izquiera a derecha"
      ]
    },
    {
      "cell_type": "markdown",
      "metadata": {
        "id": "xsD6xymuEOQ4"
      },
      "source": [
        "###Booleanos"
      ]
    },
    {
      "cell_type": "markdown",
      "metadata": {
        "id": "e2WZ1dwUWmvF"
      },
      "source": [
        "Una variable booleana es aquella que solo puede tomar dos valores (True o False).\n",
        "En Python, cualquier valor puede convertirse a booleano. La lógica que se sigue para determinar si es True o False:\n",
        "\n",
        "\n",
        "*   Elementos nulos, vacíos o cero son considerados como **False**.\n",
        "*   Cualquier elemento que contenga algún valor distinto de cero será considerado **True**.\n",
        "\n",
        "Si queremos saber si un elemento se considera True o False, se puede convertir su valor mediante la función **bool()**.\n",
        "\n"
      ]
    },
    {
      "cell_type": "code",
      "execution_count": null,
      "metadata": {
        "id": "3mK43AQVAMgv"
      },
      "outputs": [],
      "source": [
        "bool(0)     # entero valor 0\n",
        "bool(0.0)   # floar valor 0\n",
        "bool(\"\")    # cadena texto valor 0\n",
        "bool(None)  # valor nulo\n",
        "bool(())    # tupla vacía\n",
        "bool([])    # lista vacía\n",
        "bool({})    # conjunto vacío"
      ]
    },
    {
      "cell_type": "code",
      "execution_count": null,
      "metadata": {
        "id": "9Ytjq3OXAeYG"
      },
      "outputs": [],
      "source": [
        "bool(1)\n",
        "bool(-10)\n",
        "bool(\"abcd\")"
      ]
    },
    {
      "cell_type": "markdown",
      "metadata": {
        "id": "6P-s1fFtJE-r"
      },
      "source": [
        "#### Operadores lógicos"
      ]
    },
    {
      "cell_type": "markdown",
      "metadata": {
        "id": "AQiBJv7mJHYb"
      },
      "source": [
        "Los operadores lógicos son aquellos que nos van a permitir operar con los booleanos, y principalmente tenemos 3 tipos:\n",
        "\n",
        "\n",
        "*   **and**: Este operador nos devuelve True si se cumplen todas las condiciones de la operación\n",
        "*   **or**: Este operador nos devuelve True si se cumple al menos una condición de las planteadas.\n",
        "* **not**: Este operador nos devuelve True si el resultado de la operación es False.\n",
        "\n"
      ]
    },
    {
      "cell_type": "code",
      "execution_count": null,
      "metadata": {
        "id": "60-4nL4yNLFb"
      },
      "outputs": [],
      "source": [
        "True and True"
      ]
    },
    {
      "cell_type": "code",
      "execution_count": null,
      "metadata": {
        "id": "ih_uEBEeRX7c"
      },
      "outputs": [],
      "source": [
        "True or True"
      ]
    },
    {
      "cell_type": "code",
      "execution_count": null,
      "metadata": {
        "id": "51ePAeInRkli"
      },
      "outputs": [],
      "source": [
        "not True"
      ]
    },
    {
      "cell_type": "markdown",
      "metadata": {
        "id": "17RwDh7eRthU"
      },
      "source": [
        "**Expresiones compuestas**\n",
        "\n",
        "Python te permite concatenar expresiones lógicas y hacer operaciones complejas. Para ello, es importante saber que Python evalúa primero los **not**, seguido de los **and**, y por último los **or**.\n",
        "\n",
        "Tip: si no estás acostumbrado a manejar estas expresiones, se recomienda utilizar paréntesis."
      ]
    },
    {
      "cell_type": "code",
      "execution_count": null,
      "metadata": {
        "id": "icS-cA2jSIpG"
      },
      "outputs": [],
      "source": [
        "not True and False\n",
        "#(not True) and False\n",
        "#not (True and False)"
      ]
    },
    {
      "cell_type": "code",
      "execution_count": null,
      "metadata": {
        "id": "VijET8f7SlAS"
      },
      "outputs": [],
      "source": [
        "not False or True\n",
        "#(not False) or True\n",
        "#not (False or True)"
      ]
    },
    {
      "cell_type": "code",
      "execution_count": null,
      "metadata": {
        "id": "V67W3hCcSvYJ"
      },
      "outputs": [],
      "source": [
        "True or True and False\n",
        "#(True or True) and False"
      ]
    },
    {
      "cell_type": "markdown",
      "metadata": {
        "id": "U4QF3MU1TP41"
      },
      "source": [
        "**Operadores booleanos**\n",
        "\n",
        "Cuando queremos hacer alguna comprobación o determinar si se cumple alguna condición, tenemos una serie de operadores que nos permiten realizarlas, dando como resultado valores booleanos.\n",
        "Estos operadores son:\n",
        "![image.png](data:image/png;base64,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)"
      ]
    },
    {
      "cell_type": "code",
      "execution_count": null,
      "metadata": {
        "id": "PiAeDwlCTyPp"
      },
      "outputs": [],
      "source": [
        "5==5 and 2 > 1"
      ]
    },
    {
      "cell_type": "code",
      "execution_count": null,
      "metadata": {
        "id": "fXrtGB2ET3sm"
      },
      "outputs": [],
      "source": [
        "9!=8 and 4+3 >= 8"
      ]
    },
    {
      "cell_type": "code",
      "execution_count": null,
      "metadata": {
        "id": "TCuHOmkuUBtJ"
      },
      "outputs": [],
      "source": [
        "9%2 == 0 or 9%3==0"
      ]
    },
    {
      "cell_type": "code",
      "execution_count": null,
      "metadata": {
        "id": "vRjcH0OsUQyH"
      },
      "outputs": [],
      "source": [
        "min (2,4,5,1,0) == 1 or divmod(8,3) == (2,2)"
      ]
    },
    {
      "cell_type": "code",
      "execution_count": null,
      "metadata": {
        "id": "YMaXmjH_Ui7s"
      },
      "outputs": [],
      "source": [
        "not 10 > 9 or 4/-1+3 == 2"
      ]
    },
    {
      "cell_type": "markdown",
      "metadata": {
        "id": "0vJLt3JRL9eR"
      },
      "source": [
        "##Variables"
      ]
    },
    {
      "cell_type": "markdown",
      "metadata": {
        "id": "DN2AXHJw7yD-"
      },
      "source": [
        "Podemos entender las variables como \"cajas\" o \"etiquetas\" que permiten hacer referencia a una expresión (asignado por ti o calculado), ya sea un valor numérico, booleano, una cadena, una estructura de datos...\n",
        "\n",
        "Esta posibilidad de \"memorizar\" es una de las capacidades más reconocibles de los lenguajes de programación.\n",
        "\n",
        "Para ello, la solución pasa por asignarle un nombre identificativo al valor que queramos memorizar.\n",
        "\n",
        "¿Qué debemos saber de las variables?"
      ]
    },
    {
      "cell_type": "markdown",
      "metadata": {
        "id": "634jmrEC72YK"
      },
      "source": [
        "###Identificador único"
      ]
    },
    {
      "cell_type": "markdown",
      "metadata": {
        "id": "XMgUP9rc7-90"
      },
      "source": [
        "La variable debe empezar por una letra o un guión bajo"
      ]
    },
    {
      "cell_type": "code",
      "execution_count": null,
      "metadata": {
        "id": "My6NEFEV8DDb"
      },
      "outputs": [],
      "source": [
        "calle = 'Alberto Aguilera'\n",
        "_numero = 102"
      ]
    },
    {
      "cell_type": "code",
      "execution_count": null,
      "metadata": {
        "id": "BVPuyev-8Epa"
      },
      "outputs": [],
      "source": [
        "calle, _numero"
      ]
    },
    {
      "cell_type": "markdown",
      "metadata": {
        "id": "hxV4A9Cz8GoL"
      },
      "source": [
        "Es sensible a las mayúsculas/minúsculas"
      ]
    },
    {
      "cell_type": "code",
      "execution_count": null,
      "metadata": {
        "id": "KXADa5Of8I2D"
      },
      "outputs": [],
      "source": [
        "nombre = 'Diego'\n",
        "Nombre = 'CEI'"
      ]
    },
    {
      "cell_type": "code",
      "execution_count": null,
      "metadata": {
        "id": "cjeVG63s8K4q"
      },
      "outputs": [],
      "source": [
        "nombre"
      ]
    },
    {
      "cell_type": "markdown",
      "metadata": {
        "id": "o7lNyNHM8Nsi"
      },
      "source": [
        "No se pueden utilizar palabras clave"
      ]
    },
    {
      "cell_type": "code",
      "execution_count": null,
      "metadata": {
        "id": "S7U4GFuy8Pla"
      },
      "outputs": [],
      "source": [
        "if else for while int type float str\n",
        "nombre Nombre"
      ]
    },
    {
      "cell_type": "markdown",
      "metadata": {
        "id": "ZOeaz_l28UO0"
      },
      "source": [
        "Para ayudarnos a saber qué contienen, los nombres han de ser descriptivos y mínima longitud:"
      ]
    },
    {
      "cell_type": "code",
      "execution_count": null,
      "metadata": {
        "id": "g2E2QaFS8Vky"
      },
      "outputs": [],
      "source": [
        "ticket_medio_usuarios_ultimo_mes # 32 caracteres\n",
        "med_ult_mes                      # 10 caracteres"
      ]
    },
    {
      "cell_type": "markdown",
      "metadata": {
        "id": "N_pppbyy8g6L"
      },
      "source": [
        "###Los tipos"
      ]
    },
    {
      "cell_type": "markdown",
      "metadata": {
        "id": "BpdnS7Wz8kOA"
      },
      "source": [
        "Una gran ventaja de Python es que no es necesario definir el tipo de una variable, y este se asigna automáticamente en función del valor asignado."
      ]
    },
    {
      "cell_type": "code",
      "execution_count": null,
      "metadata": {
        "id": "4wy1Mvmc8nQT"
      },
      "outputs": [],
      "source": [
        "my_var = 'Soy una cadena'\n",
        "print(type(my_var))\n",
        "my_var = 30\n",
        "print(type(my_var))\n",
        "my_var = 14.5\n",
        "print(type(my_var))\n",
        "my_var = False\n",
        "print(type(my_var))"
      ]
    },
    {
      "cell_type": "markdown",
      "metadata": {
        "id": "UxZgpUnM8tm3"
      },
      "source": [
        "De igual manera que vimos que las variables eran sensibles a mayúsculas, el lenguaje está fuertemente tipado, lo que provoca que no puedan combinarse fácilmente variables de distinto tipo."
      ]
    },
    {
      "cell_type": "code",
      "execution_count": null,
      "metadata": {
        "id": "oxoARPHY8wrU"
      },
      "outputs": [],
      "source": [
        "a = 'Diego'\n",
        "b= 31\n",
        "a+b"
      ]
    },
    {
      "cell_type": "markdown",
      "metadata": {
        "id": "FjEjz6CBFLZb"
      },
      "source": [
        "Una vez tenemos guardado un valor en una variable, podemos hacer referencia a ese valor a través de la variable en el momento que queramos."
      ]
    },
    {
      "cell_type": "code",
      "execution_count": null,
      "metadata": {
        "id": "_od81SGTFXcZ"
      },
      "outputs": [],
      "source": [
        "a = 2\n",
        "b = 3\n",
        "c = a+b\n",
        "c"
      ]
    },
    {
      "cell_type": "markdown",
      "metadata": {
        "id": "2Vsfhzc6FssY"
      },
      "source": [
        "**Asignaciones aumentadas**\n",
        "\n",
        "Cuando una variables se modifica a partir de su propio valor, esto se denomina \"asignación aumentada\". Por ejemplo\n",
        "* a= a+b --> a+=b\n",
        "* a= a-b --> a-=b\n",
        "* a= a/b --> a/=b\n",
        "\n",
        "**Definir y modificar varias variables a la vez**\n",
        "\n",
        "En una misma línea se pueden definir simultáneamente varias variables, con un mismo valor o con valor distinto. Por ejemplo:\n",
        "\n",
        "\n",
        "\n",
        "```\n",
        "a = b = 99\n",
        "nombre, apellido1, apellido2 = \"Carlos\", \"González\", \"Martínez\"\n",
        "```\n",
        "\n"
      ]
    },
    {
      "cell_type": "code",
      "execution_count": null,
      "metadata": {
        "id": "DvYPq5fwG3du"
      },
      "outputs": [],
      "source": [
        "a = b = 99\n",
        "nombre, apellido1, apellido2, = \"Carlos\", \"González\", \"Martínez\""
      ]
    },
    {
      "cell_type": "code",
      "execution_count": null,
      "metadata": {
        "id": "s0pyuOqqG-XQ"
      },
      "outputs": [],
      "source": [
        "apellido1"
      ]
    },
    {
      "cell_type": "markdown",
      "metadata": {
        "id": "Tnj9rhkpJXQ8"
      },
      "source": [
        "####Conversión de tipos"
      ]
    },
    {
      "cell_type": "markdown",
      "metadata": {
        "id": "1VrOg_P6JbGc"
      },
      "source": [
        "Python nos permite convertir los datos a otros tipos (siempre que el dato sea compatible). Para ello, tenemos ciertas funciones integradas que lo permiten:\n",
        "\n",
        "\n",
        "*   int(variable) : convierte la variable a tipo entero.\n",
        "*   float(variable) : convierte la variable a tipo decimal.\n",
        "* bool(variable) : convierte la variable a tipo booleano.\n",
        "* str(variable) : convierte la variable a tipo cadena de texto.\n",
        "\n"
      ]
    },
    {
      "cell_type": "code",
      "execution_count": null,
      "metadata": {
        "id": "L7niuR0eJ-Xc"
      },
      "outputs": [],
      "source": [
        "variable = 80\n",
        "float(variable)"
      ]
    },
    {
      "cell_type": "code",
      "execution_count": null,
      "metadata": {
        "id": "m9vHgtALKIlx"
      },
      "outputs": [],
      "source": [
        "bool(variable)"
      ]
    },
    {
      "cell_type": "code",
      "execution_count": null,
      "metadata": {
        "id": "FHhVQP_CKK7Y"
      },
      "outputs": [],
      "source": [
        "str(variable)"
      ]
    },
    {
      "cell_type": "code",
      "execution_count": null,
      "metadata": {
        "id": "NSJ2mj0WKSO0"
      },
      "outputs": [],
      "source": [
        "variable2 = \"CEI\"\n",
        "int(variable2)"
      ]
    },
    {
      "cell_type": "markdown",
      "metadata": {
        "id": "mmZ6LcWtJfdM"
      },
      "source": [
        "### Ejercicios"
      ]
    },
    {
      "cell_type": "markdown",
      "metadata": {
        "id": "PsaKFJg9JtOH"
      },
      "source": [
        "1.   Escribir un programa para reemplazar todas las apariciones de la letra \"r\" por la letra \"b\" en una cadena.\n",
        "2.   Escribir un programa que convierta las 3 últimas letras de una cadena en mayúsculas.\n",
        "3. Tomas un préstamo en una oficina bancaria para comprar una casa con una tasa de interés simple del 2% durante 5 años. ¿Cuántos intereses habrás pagado después de 24 meses?\n",
        "4. Tienes una deuda de 20k€ y descubres que tu banco ofrece un depósito con un tipo de interés compuesto anual del 3%. ¿Cuánto dinero debes invertir para poder pagar la deuda en 3 años?\n",
        "5. Cuál será el resultado de la siguiente expresión?\n",
        "Piénsalo antes de ejecutar el código!\n",
        "\n",
        "\n",
        "```\n",
        "not ((\"testing\"!=\"Testing) or (\"Python\" == \"Python \"))\n",
        "```\n",
        "\n",
        "![image.png](data:image/png;base64,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)"
      ]
    },
    {
      "cell_type": "markdown",
      "source": [
        "# Ejercicio 1"
      ],
      "metadata": {
        "id": "9O3TCPsZc7Pi"
      }
    },
    {
      "cell_type": "code",
      "source": [
        "string = \"robo\"\n",
        "string_mod = string.replace(\"r\", \"b\")"
      ],
      "metadata": {
        "id": "l-WqqodRdEzY"
      },
      "execution_count": null,
      "outputs": []
    },
    {
      "cell_type": "code",
      "source": [
        "print(string_mod)"
      ],
      "metadata": {
        "id": "16q3tCgAdV3R",
        "outputId": "9d1e249b-1931-4b4a-c8b4-5be30871512c",
        "colab": {
          "base_uri": "https://localhost:8080/"
        }
      },
      "execution_count": null,
      "outputs": [
        {
          "output_type": "stream",
          "name": "stdout",
          "text": [
            "bobo\n"
          ]
        }
      ]
    },
    {
      "cell_type": "markdown",
      "source": [
        "# Ejercicio 2\n"
      ],
      "metadata": {
        "id": "f-zREJ3rdZuA"
      }
    },
    {
      "cell_type": "code",
      "source": [
        "string = \"Alejandro no tiene ni idea de programar\""
      ],
      "metadata": {
        "id": "j4NjpO96de6v"
      },
      "execution_count": null,
      "outputs": []
    },
    {
      "cell_type": "code",
      "source": [
        "string_mod2 = string[:len(string)-3] + string[len(string)-3:].upper()"
      ],
      "metadata": {
        "id": "NK508WPfdlip"
      },
      "execution_count": null,
      "outputs": []
    },
    {
      "cell_type": "code",
      "source": [
        "print(string_mod2)"
      ],
      "metadata": {
        "id": "OLzFFpqddz45",
        "outputId": "d5309adf-cdaf-4ac9-c504-08963499eab3",
        "colab": {
          "base_uri": "https://localhost:8080/"
        }
      },
      "execution_count": null,
      "outputs": [
        {
          "output_type": "stream",
          "name": "stdout",
          "text": [
            "Alejandro no tiene ni idea de prograMAR\n"
          ]
        }
      ]
    },
    {
      "cell_type": "markdown",
      "source": [
        "# Ejercicio 3"
      ],
      "metadata": {
        "id": "YrwKflZZe0Ij"
      }
    },
    {
      "cell_type": "code",
      "source": [
        "rate, time, step_time, capital = 2, 5, 2, 10000 # Rate in % and time in years\n",
        "pago_intereses_simp = 0 # We define the variable"
      ],
      "metadata": {
        "id": "VHHF9rVDfDIg"
      },
      "execution_count": null,
      "outputs": []
    },
    {
      "cell_type": "code",
      "source": [
        "def interes_simp(rate, time, step_time, capital):\n",
        "    pago_intereses_simp = capital*(1+(rate/100)*2) - capital\n",
        "\n",
        "    return print(pago_intereses_simp)\n"
      ],
      "metadata": {
        "id": "STbU9bc4faiK"
      },
      "execution_count": null,
      "outputs": []
    },
    {
      "cell_type": "code",
      "source": [
        "interes_simp(rate, time, step_time, capital)"
      ],
      "metadata": {
        "id": "oHrSyU4Ff9v4",
        "outputId": "7eb4a645-29da-43a4-d04e-36312b0f0be2",
        "colab": {
          "base_uri": "https://localhost:8080/"
        }
      },
      "execution_count": null,
      "outputs": [
        {
          "output_type": "stream",
          "name": "stdout",
          "text": [
            "400.0\n"
          ]
        }
      ]
    },
    {
      "cell_type": "markdown",
      "source": [
        "# Ejercicio 4"
      ],
      "metadata": {
        "id": "CmY6Xoy5gpV6"
      }
    },
    {
      "cell_type": "code",
      "source": [],
      "metadata": {
        "id": "UTdDwyZ_hV_S"
      },
      "execution_count": null,
      "outputs": []
    }
  ],
  "metadata": {
    "colab": {
      "provenance": []
    },
    "kernelspec": {
      "display_name": "Python 3 (ipykernel)",
      "language": "python",
      "name": "python3"
    },
    "language_info": {
      "codemirror_mode": {
        "name": "ipython",
        "version": 3
      },
      "file_extension": ".py",
      "mimetype": "text/x-python",
      "name": "python",
      "nbconvert_exporter": "python",
      "pygments_lexer": "ipython3",
      "version": "3.9.12"
    }
  },
  "nbformat": 4,
  "nbformat_minor": 0
}